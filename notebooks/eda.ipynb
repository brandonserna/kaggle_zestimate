{
 "cells": [
  {
   "cell_type": "markdown",
   "metadata": {},
   "source": [
    "# Zillow Prize: Zillow’s Home Value Prediction (Zestimate)\n",
    "\n",
    "## Exploratory Data Analysis\n",
    "\n",
    "<hr>\n",
    "\n",
    "2,985,217 Observations in properties information\n",
    "\n",
    "58 Features\n"
   ]
  },
  {
   "cell_type": "code",
   "execution_count": 39,
   "metadata": {
    "collapsed": true
   },
   "outputs": [],
   "source": [
    "import os\n",
    "import numpy as np\n",
    "import pandas as pd\n",
    "import matplotlib.pyplot as plt\n",
    "import datetime as dt\n",
    "\n",
    "%matplotlib inline"
   ]
  },
  {
   "cell_type": "code",
   "execution_count": 2,
   "metadata": {
    "collapsed": true
   },
   "outputs": [],
   "source": [
    "base_dir = '../input/'"
   ]
  },
  {
   "cell_type": "markdown",
   "metadata": {},
   "source": [
    "## 2016 Properties\n",
    "\n",
    "Information about the properties."
   ]
  },
  {
   "cell_type": "code",
   "execution_count": 3,
   "metadata": {},
   "outputs": [
    {
     "name": "stderr",
     "output_type": "stream",
     "text": [
      "/home/bss/opt/anaconda3/envs/zillow/lib/python3.6/site-packages/IPython/core/interactiveshell.py:2698: DtypeWarning: Columns (22,32,34,49,55) have mixed types. Specify dtype option on import or set low_memory=False.\n",
      "  interactivity=interactivity, compiler=compiler, result=result)\n"
     ]
    },
    {
     "data": {
      "text/plain": [
       "parcelid                          int64\n",
       "airconditioningtypeid           float32\n",
       "architecturalstyletypeid        float32\n",
       "basementsqft                    float32\n",
       "bathroomcnt                     float32\n",
       "bedroomcnt                      float32\n",
       "buildingclasstypeid             float32\n",
       "buildingqualitytypeid           float32\n",
       "calculatedbathnbr               float32\n",
       "decktypeid                      float32\n",
       "finishedfloor1squarefeet        float32\n",
       "calculatedfinishedsquarefeet    float32\n",
       "finishedsquarefeet12            float32\n",
       "finishedsquarefeet13            float32\n",
       "finishedsquarefeet15            float32\n",
       "finishedsquarefeet50            float32\n",
       "finishedsquarefeet6             float32\n",
       "fips                            float32\n",
       "fireplacecnt                    float32\n",
       "fullbathcnt                     float32\n",
       "garagecarcnt                    float32\n",
       "garagetotalsqft                 float32\n",
       "hashottuborspa                   object\n",
       "heatingorsystemtypeid           float32\n",
       "latitude                        float32\n",
       "longitude                       float32\n",
       "lotsizesquarefeet               float32\n",
       "poolcnt                         float32\n",
       "poolsizesum                     float32\n",
       "pooltypeid10                    float32\n",
       "pooltypeid2                     float32\n",
       "pooltypeid7                     float32\n",
       "propertycountylandusecode        object\n",
       "propertylandusetypeid           float32\n",
       "propertyzoningdesc               object\n",
       "rawcensustractandblock          float32\n",
       "regionidcity                    float32\n",
       "regionidcounty                  float32\n",
       "regionidneighborhood            float32\n",
       "regionidzip                     float32\n",
       "roomcnt                         float32\n",
       "storytypeid                     float32\n",
       "threequarterbathnbr             float32\n",
       "typeconstructiontypeid          float32\n",
       "unitcnt                         float32\n",
       "yardbuildingsqft17              float32\n",
       "yardbuildingsqft26              float32\n",
       "yearbuilt                       float32\n",
       "numberofstories                 float32\n",
       "fireplaceflag                    object\n",
       "structuretaxvaluedollarcnt      float32\n",
       "taxvaluedollarcnt               float32\n",
       "assessmentyear                  float32\n",
       "landtaxvaluedollarcnt           float32\n",
       "taxamount                       float32\n",
       "taxdelinquencyflag               object\n",
       "taxdelinquencyyear              float32\n",
       "censustractandblock             float32\n",
       "dtype: object"
      ]
     },
     "execution_count": 3,
     "metadata": {},
     "output_type": "execute_result"
    }
   ],
   "source": [
    "properties_2016 = pd.read_csv(os.path.join(base_dir, 'properties_2016.csv'))\n",
    "properties_2016.head()  \n",
    "\n",
    "# Convert property float.64 data to float.32 to save memory\n",
    "for c, dtype in zip(properties_2016.columns, properties_2016.dtypes):\n",
    "    if dtype == np.float64:\n",
    "        properties_2016[c] = properties_2016[c].astype(np.float32)\n",
    "properties_2016.dtypes"
   ]
  },
  {
   "cell_type": "markdown",
   "metadata": {},
   "source": [
    "### 2016 Properties Features\n",
    "\n",
    "58 total features"
   ]
  },
  {
   "cell_type": "code",
   "execution_count": 4,
   "metadata": {
    "scrolled": true
   },
   "outputs": [
    {
     "name": "stdout",
     "output_type": "stream",
     "text": [
      "parcelid\n",
      "airconditioningtypeid\n",
      "architecturalstyletypeid\n",
      "basementsqft\n",
      "bathroomcnt\n",
      "bedroomcnt\n",
      "buildingclasstypeid\n",
      "buildingqualitytypeid\n",
      "calculatedbathnbr\n",
      "decktypeid\n",
      "finishedfloor1squarefeet\n",
      "calculatedfinishedsquarefeet\n",
      "finishedsquarefeet12\n",
      "finishedsquarefeet13\n",
      "finishedsquarefeet15\n",
      "finishedsquarefeet50\n",
      "finishedsquarefeet6\n",
      "fips\n",
      "fireplacecnt\n",
      "fullbathcnt\n",
      "garagecarcnt\n",
      "garagetotalsqft\n",
      "hashottuborspa\n",
      "heatingorsystemtypeid\n",
      "latitude\n",
      "longitude\n",
      "lotsizesquarefeet\n",
      "poolcnt\n",
      "poolsizesum\n",
      "pooltypeid10\n",
      "pooltypeid2\n",
      "pooltypeid7\n",
      "propertycountylandusecode\n",
      "propertylandusetypeid\n",
      "propertyzoningdesc\n",
      "rawcensustractandblock\n",
      "regionidcity\n",
      "regionidcounty\n",
      "regionidneighborhood\n",
      "regionidzip\n",
      "roomcnt\n",
      "storytypeid\n",
      "threequarterbathnbr\n",
      "typeconstructiontypeid\n",
      "unitcnt\n",
      "yardbuildingsqft17\n",
      "yardbuildingsqft26\n",
      "yearbuilt\n",
      "numberofstories\n",
      "fireplaceflag\n",
      "structuretaxvaluedollarcnt\n",
      "taxvaluedollarcnt\n",
      "assessmentyear\n",
      "landtaxvaluedollarcnt\n",
      "taxamount\n",
      "taxdelinquencyflag\n",
      "taxdelinquencyyear\n",
      "censustractandblock\n",
      "\n",
      " Total Features: 58\n",
      "2985217 observations in dataset\n"
     ]
    }
   ],
   "source": [
    "for i in properties_2016.columns.values.tolist(): print(i)\n",
    "print('\\n Total Features: ' + str(len(properties_2016.columns.values.tolist())))\n",
    "\n",
    "# observations\n",
    "print(str(len(properties_2016.index)) + ' observations in dataset')"
   ]
  },
  {
   "cell_type": "code",
   "execution_count": 5,
   "metadata": {},
   "outputs": [
    {
     "data": {
      "text/plain": [
       "parcelid                         0.000000\n",
       "fips                             0.383121\n",
       "propertylandusetypeid            0.383121\n",
       "rawcensustractandblock           0.383121\n",
       "regionidcounty                   0.383121\n",
       "longitude                        0.383121\n",
       "latitude                         0.383121\n",
       "assessmentyear                   0.383188\n",
       "bedroomcnt                       0.383557\n",
       "bathroomcnt                      0.383959\n",
       "roomcnt                          0.384394\n",
       "propertycountylandusecode        0.411260\n",
       "regionidzip                      0.468308\n",
       "taxamount                        1.046825\n",
       "taxvaluedollarcnt                1.425357\n",
       "structuretaxvaluedollarcnt       1.841809\n",
       "calculatedfinishedsquarefeet     1.861339\n",
       "yearbuilt                        2.007492\n",
       "regionidcity                     2.105207\n",
       "landtaxvaluedollarcnt            2.268947\n",
       "censustractandblock              2.516601\n",
       "fullbathcnt                      4.318346\n",
       "calculatedbathnbr                4.318346\n",
       "finishedsquarefeet12             9.246664\n",
       "lotsizesquarefeet                9.248875\n",
       "propertyzoningdesc              33.719090\n",
       "unitcnt                         33.757244\n",
       "buildingqualitytypeid           35.063749\n",
       "heatingorsystemtypeid           39.488453\n",
       "regionidneighborhood            61.262381\n",
       "garagecarcnt                    70.411967\n",
       "garagetotalsqft                 70.411967\n",
       "airconditioningtypeid           72.815410\n",
       "numberofstories                 77.151778\n",
       "poolcnt                         82.663438\n",
       "pooltypeid7                     83.737899\n",
       "fireplacecnt                    89.527160\n",
       "threequarterbathnbr             89.560859\n",
       "finishedfloor1squarefeet        93.209304\n",
       "finishedsquarefeet50            93.209304\n",
       "finishedsquarefeet15            93.608572\n",
       "yardbuildingsqft17              97.308236\n",
       "hashottuborspa                  97.688141\n",
       "taxdelinquencyyear              98.108546\n",
       "taxdelinquencyflag              98.108613\n",
       "pooltypeid10                    98.762603\n",
       "pooltypeid2                     98.925539\n",
       "poolsizesum                     99.063385\n",
       "finishedsquarefeet6             99.263002\n",
       "decktypeid                      99.427311\n",
       "buildingclasstypeid             99.576949\n",
       "finishedsquarefeet13            99.743000\n",
       "typeconstructiontypeid          99.773986\n",
       "architecturalstyletypeid        99.796966\n",
       "fireplaceflag                   99.827048\n",
       "yardbuildingsqft26              99.911330\n",
       "basementsqft                    99.945465\n",
       "storytypeid                     99.945599\n",
       "dtype: float64"
      ]
     },
     "execution_count": 5,
     "metadata": {},
     "output_type": "execute_result"
    }
   ],
   "source": [
    "# percentage of missing values to total observations\n",
    "missing_value_dist = properties_2016.isnull().sum()/2985217\n",
    "missing_value_dist = missing_value_dist*100\n",
    "missing_value_dist.sort_values()"
   ]
  },
  {
   "cell_type": "code",
   "execution_count": 6,
   "metadata": {
    "scrolled": false
   },
   "outputs": [
    {
     "data": {
      "text/plain": [
       "<matplotlib.axes._subplots.AxesSubplot at 0x7f1d4a5c1748>"
      ]
     },
     "execution_count": 6,
     "metadata": {},
     "output_type": "execute_result"
    },
    {
     "data": {
      "image/png": "[encoded data removed]",
      "text/plain": [
       "<matplotlib.figure.Figure at 0x7f1d4acdb400>"
      ]
     },
     "metadata": {},
     "output_type": "display_data"
    }
   ],
   "source": [
    "# missing vals\n",
    "missing_values = properties_2016.isnull().sum().sort_values()  #print(missing_values)\n",
    "# plot values\n",
    "missing_values.plot.bar(figsize=(15, 5),rot=90, title='Missing (null) Feature Values')"
   ]
  },
  {
   "cell_type": "code",
   "execution_count": null,
   "metadata": {
    "collapsed": true
   },
   "outputs": [],
   "source": [
    "properties_2016['taxdelinquencyflag'].unique()"
   ]
  },
  {
   "cell_type": "code",
   "execution_count": null,
   "metadata": {
    "collapsed": true
   },
   "outputs": [],
   "source": [
    "tax_del = pd.get_dummies(properties_2016['taxdelinquencyflag'])"
   ]
  },
  {
   "cell_type": "code",
   "execution_count": null,
   "metadata": {
    "collapsed": true
   },
   "outputs": [],
   "source": [
    "np.unique(tax_del.as_matrix(), return_counts=True)"
   ]
  },
  {
   "cell_type": "markdown",
   "metadata": {},
   "source": [
    "## Feature Exploring\n",
    "\n",
    "A glipse into the provided features"
   ]
  },
  {
   "cell_type": "code",
   "execution_count": 11,
   "metadata": {},
   "outputs": [
    {
     "data": {
      "text/plain": [
       "True"
      ]
     },
     "execution_count": 11,
     "metadata": {},
     "output_type": "execute_result"
    }
   ],
   "source": [
    "# parcel id -- remove \n",
    "# Each ID is unique\n",
    "2985217 == len(properties_2016['parcelid'].unique())"
   ]
  },
  {
   "cell_type": "markdown",
   "metadata": {},
   "source": [
    "### Property Zoning Description (DROP)\n",
    "Description:  Description of the allowed land uses (zoning) for that property\n",
    "\n",
    "Unique Types: 5639\n",
    "\n",
    "Percent Missing: 33.7%"
   ]
  },
  {
   "cell_type": "code",
   "execution_count": 16,
   "metadata": {},
   "outputs": [
    {
     "data": {
      "text/plain": [
       "5639"
      ]
     },
     "execution_count": 16,
     "metadata": {},
     "output_type": "execute_result"
    }
   ],
   "source": [
    "len(properties_2016['propertyzoningdesc'].unique())"
   ]
  },
  {
   "cell_type": "markdown",
   "metadata": {},
   "source": [
    "### Property Land Use Code (DROP)\n",
    "Description:  County land use code i.e. it's zoning at the county level\n",
    "\n",
    "Unique Types: 241\n",
    "\n",
    "Percent Missing: 0.4%\n",
    "\n",
    "Reason: Too many unqiue categories, w/o mapping it's risky to combine."
   ]
  },
  {
   "cell_type": "code",
   "execution_count": 24,
   "metadata": {},
   "outputs": [
    {
     "name": "stdout",
     "output_type": "stream",
     "text": [
      "241\n"
     ]
    }
   ],
   "source": [
    "print(len(properties_2016['propertycountylandusecode'].unique()))\n",
    "#properties_2016['propertycountylandusecode'].head(100)"
   ]
  },
  {
   "cell_type": "markdown",
   "metadata": {},
   "source": [
    "### Fireplace Count\n",
    "\n",
    "Percent Missing: 89.5%\n",
    "\n",
    "Min: 1 -- Max: 9 -- Median: 1\n",
    "\n",
    "Reason: too many missing values to implant median of 1"
   ]
  },
  {
   "cell_type": "code",
   "execution_count": 29,
   "metadata": {},
   "outputs": [
    {
     "data": {
      "text/plain": [
       "dtype('float32')"
      ]
     },
     "execution_count": 29,
     "metadata": {},
     "output_type": "execute_result"
    }
   ],
   "source": [
    "properties_2016['fireplacecnt'].dtype"
   ]
  },
  {
   "cell_type": "markdown",
   "metadata": {},
   "source": [
    "### Fireplace Flag\n",
    "\n",
    "Missing: 99% "
   ]
  },
  {
   "cell_type": "markdown",
   "metadata": {},
   "source": [
    "### AirConditioningTypeID / air_conditioning_type (keep)\n",
    "\n",
    "Fill in missing values with 0, one-hot encode "
   ]
  },
  {
   "cell_type": "markdown",
   "metadata": {},
   "source": [
    "AirConditioningTypeID\tAirConditioningDesc\n",
    "1\tCentral\n",
    "3\tEvaporative Cooler\n",
    "5\tNone\n",
    "9\tRefrigeration\n",
    "11\tWall Unit\n",
    "12\tWindow Unit\n",
    "13\tYes"
   ]
  },
  {
   "cell_type": "code",
   "execution_count": null,
   "metadata": {
    "collapsed": true
   },
   "outputs": [],
   "source": [
    "# airconditioningtypeid ()\n",
    "# 72.815410 % missing values \n",
    "#properties_2016['air_conditioning_type'].unique()\n",
    "print(properties_2016.air_conditioning_type.value_counts())"
   ]
  },
  {
   "cell_type": "code",
   "execution_count": null,
   "metadata": {
    "collapsed": true
   },
   "outputs": [],
   "source": [
    "test = pd.get_dummies(properties_2016)"
   ]
  },
  {
   "cell_type": "markdown",
   "metadata": {
    "collapsed": true
   },
   "source": [
    "### Lotsizesq"
   ]
  },
  {
   "cell_type": "code",
   "execution_count": 47,
   "metadata": {},
   "outputs": [
    {
     "name": "stdout",
     "output_type": "stream",
     "text": [
      "Lot Size (sqft) Max: 328263808.00\n",
      "Lot Size (sqft) Min: 100.00\n",
      "Lot Size (sqft) Median: 7000.00\n"
     ]
    }
   ],
   "source": [
    "float_formatter = lambda x: \"%.2f\" % x\n",
    "\n",
    "print('Lot Size (sqft) Max: ' + float_formatter(properties_2016['lotsizesquarefeet'].max()))\n",
    "print('Lot Size (sqft) Min: ' + float_formatter(properties_2016['lotsizesquarefeet'].min()))\n",
    "print('Lot Size (sqft) Median: ' + float_formatter(properties_2016['lotsizesquarefeet'].median()))"
   ]
  },
  {
   "cell_type": "markdown",
   "metadata": {
    "collapsed": true
   },
   "source": [
    "### Year Built Feature Engineering\n",
    "\n",
    "Missing: 2%\n",
    "\n",
    "Unique: 169"
   ]
  },
  {
   "cell_type": "code",
   "execution_count": 49,
   "metadata": {},
   "outputs": [
    {
     "name": "stdout",
     "output_type": "stream",
     "text": [
      "Year Built Max: 2015.00\n",
      "Year Built Min: 1801.00\n",
      "Year Built Median: 1963.00\n",
      "169\n"
     ]
    }
   ],
   "source": [
    "yb = properties_2016['yearbuilt']\n",
    "print('Year Built Max: ' + float_formatter(yb.max()))\n",
    "print('Year Built Min: ' + float_formatter(yb.min()))\n",
    "print('Year Built Median: ' + float_formatter(yb.median()))\n",
    "print(len(yb.unique()))"
   ]
  },
  {
   "cell_type": "code",
   "execution_count": 55,
   "metadata": {},
   "outputs": [
    {
     "data": {
      "text/plain": [
       "<matplotlib.axes._subplots.AxesSubplot at 0x7f1d44a6bf28>"
      ]
     },
     "execution_count": 55,
     "metadata": {},
     "output_type": "execute_result"
    },
    {
     "data": {
      "image/png": "[encoded data removed]",
      "text/plain": [
       "<matplotlib.figure.Figure at 0x7f1d4a1f9da0>"
      ]
     },
     "metadata": {},
     "output_type": "display_data"
    }
   ],
   "source": [
    "properties_2016.plot.scatter(x='yearbuilt', y='taxamount')"
   ]
  },
  {
   "cell_type": "code",
   "execution_count": null,
   "metadata": {
    "collapsed": true
   },
   "outputs": [],
   "source": []
  },
  {
   "cell_type": "markdown",
   "metadata": {},
   "source": [
    "### String Features"
   ]
  },
  {
   "cell_type": "code",
   "execution_count": null,
   "metadata": {
    "collapsed": true
   },
   "outputs": [],
   "source": [
    "# fireplaceflag\n",
    "# one hot encode\n",
    "print(properties_2016['fireplaceflag'].unique())\n",
    "fireplaces = pd.get_dummies(properties_2016['fireplaceflag'])\n",
    "fireplaces[1][:].unique()"
   ]
  },
  {
   "cell_type": "code",
   "execution_count": null,
   "metadata": {
    "collapsed": true
   },
   "outputs": [],
   "source": []
  },
  {
   "cell_type": "code",
   "execution_count": null,
   "metadata": {
    "collapsed": true
   },
   "outputs": [],
   "source": []
  },
  {
   "cell_type": "code",
   "execution_count": null,
   "metadata": {
    "collapsed": true
   },
   "outputs": [],
   "source": []
  },
  {
   "cell_type": "markdown",
   "metadata": {
    "collapsed": true
   },
   "source": [
    "<hr>"
   ]
  },
  {
   "cell_type": "markdown",
   "metadata": {},
   "source": [
    "### Training 2016 \n",
    "\n",
    "* Parcel ID\n",
    "\n",
    "* Log Error\n",
    "\n",
    "* Transaction Date\n",
    "\n",
    "Total: 90,275 observations x 3 columns\n",
    "\n",
    "Information about the transactions"
   ]
  },
  {
   "cell_type": "code",
   "execution_count": 31,
   "metadata": {},
   "outputs": [
    {
     "data": {
      "text/html": [
       "<div>\n",
       "<style>\n",
       "    .dataframe thead tr:only-child th {\n",
       "        text-align: right;\n",
       "    }\n",
       "\n",
       "    .dataframe thead th {\n",
       "        text-align: left;\n",
       "    }\n",
       "\n",
       "    .dataframe tbody tr th {\n",
       "        vertical-align: top;\n",
       "    }\n",
       "</style>\n",
       "<table border=\"1\" class=\"dataframe\">\n",
       "  <thead>\n",
       "    <tr style=\"text-align: right;\">\n",
       "      <th></th>\n",
       "      <th>parcelid</th>\n",
       "      <th>logerror</th>\n",
       "      <th>transactiondate</th>\n",
       "    </tr>\n",
       "  </thead>\n",
       "  <tbody>\n",
       "    <tr>\n",
       "      <th>0</th>\n",
       "      <td>11016594</td>\n",
       "      <td>0.0276</td>\n",
       "      <td>2016-01-01</td>\n",
       "    </tr>\n",
       "    <tr>\n",
       "      <th>1</th>\n",
       "      <td>14366692</td>\n",
       "      <td>-0.1684</td>\n",
       "      <td>2016-01-01</td>\n",
       "    </tr>\n",
       "    <tr>\n",
       "      <th>2</th>\n",
       "      <td>12098116</td>\n",
       "      <td>-0.0040</td>\n",
       "      <td>2016-01-01</td>\n",
       "    </tr>\n",
       "    <tr>\n",
       "      <th>3</th>\n",
       "      <td>12643413</td>\n",
       "      <td>0.0218</td>\n",
       "      <td>2016-01-02</td>\n",
       "    </tr>\n",
       "    <tr>\n",
       "      <th>4</th>\n",
       "      <td>14432541</td>\n",
       "      <td>-0.0050</td>\n",
       "      <td>2016-01-02</td>\n",
       "    </tr>\n",
       "  </tbody>\n",
       "</table>\n",
       "</div>"
      ],
      "text/plain": [
       "   parcelid  logerror transactiondate\n",
       "0  11016594    0.0276      2016-01-01\n",
       "1  14366692   -0.1684      2016-01-01\n",
       "2  12098116   -0.0040      2016-01-01\n",
       "3  12643413    0.0218      2016-01-02\n",
       "4  14432541   -0.0050      2016-01-02"
      ]
     },
     "execution_count": 31,
     "metadata": {},
     "output_type": "execute_result"
    }
   ],
   "source": [
    "train_2016 = pd.read_csv(os.path.join(base_dir, 'train_2016_v2.csv'))\n",
    "train_2016.head() "
   ]
  },
  {
   "cell_type": "markdown",
   "metadata": {},
   "source": [
    "### Transaction date\n",
    "\n",
    "Missing: 0\n",
    "\n",
    "Unique: 352/90,275"
   ]
  },
  {
   "cell_type": "code",
   "execution_count": 38,
   "metadata": {},
   "outputs": [
    {
     "name": "stdout",
     "output_type": "stream",
     "text": [
      "Unique:  352\n"
     ]
    },
    {
     "data": {
      "text/plain": [
       "dtype('O')"
      ]
     },
     "execution_count": 38,
     "metadata": {},
     "output_type": "execute_result"
    }
   ],
   "source": [
    "print('Unique: ', len(train_2016['transactiondate'].unique()))\n",
    "train_2016['transactiondate'].dtype"
   ]
  },
  {
   "cell_type": "code",
   "execution_count": null,
   "metadata": {
    "collapsed": true
   },
   "outputs": [],
   "source": [
    "td_mn = train_2016['transactiondate']."
   ]
  },
  {
   "cell_type": "markdown",
   "metadata": {},
   "source": [
    "## Submission File\n",
    "\n",
    "Description: predict 6 time points for all properties: October 2016 (201610), November 2016 (201611), December 2016 (201612), October 2017 (201710), November 2017 (201711), and December 2017 (201712)\n",
    "\n",
    "Rows: 2985217 \n",
    "\n",
    "Columns: ['ParcelId', '201610', '201611', '201612', '201710', '201711', '201712']\n",
    "\n",
    "Note: Not currently adjusting prediction for each month"
   ]
  },
  {
   "cell_type": "code",
   "execution_count": 44,
   "metadata": {},
   "outputs": [],
   "source": [
    "submission = pd.read_csv('../submissions/sample_submission.csv')"
   ]
  },
  {
   "cell_type": "code",
   "execution_count": 46,
   "metadata": {},
   "outputs": [
    {
     "data": {
      "text/plain": [
       "Index(['ParcelId', '201610', '201611', '201612', '201710', '201711', '201712'], dtype='object')"
      ]
     },
     "execution_count": 46,
     "metadata": {},
     "output_type": "execute_result"
    }
   ],
   "source": [
    "submission.columns"
   ]
  },
  {
   "cell_type": "code",
   "execution_count": null,
   "metadata": {
    "collapsed": true
   },
   "outputs": [],
   "source": []
  },
  {
   "cell_type": "code",
   "execution_count": null,
   "metadata": {
    "collapsed": true
   },
   "outputs": [],
   "source": [
    "'''\n",
    "Load datasets -- HOLD OFF\n",
    "'''\n",
    "def load_data():\n",
    "    # Properties '16 data\n",
    "    # better headers -- thanks (https://www.kaggle.com/nikitabu/zillow-eda-opportunities-for-feature-engineering)\n",
    "    names = ['parcelid', 'air_conditioning_type', 'architectural_style', \n",
    "             'area_basement', 'num_bathroom', 'num_bedroom', 'framing_type',\n",
    "             'building_quality', 'num_bathroom_calc', 'deck_type',\n",
    "             'area_firstfloor_finished', 'area_total_calc',\n",
    "             'area_living_finished', 'perimeter_living',\n",
    "             'area_total', 'area_firstfloor_unfinished',\n",
    "             'area_base', 'fips', 'num_fireplace', 'num_fullbath',\n",
    "             'num_garagecar', 'area_garage', 'hashottuborspa',\n",
    "             'heating_type', 'latitude', 'longitude',\n",
    "             'area_lot', 'num_pool', 'area_pools', 'pooltypeid10',\n",
    "             'pooltypeid2', 'pooltypeid7', 'property_land_use_code',\n",
    "             'property_land_use_type', 'property_zoning_desc',\n",
    "             'census_raw_tract_block', 'region_city', 'region_county',\n",
    "             'region_neighborhood', 'region_zipcode', 'num_room', 'story_type',\n",
    "             'num_34_bath', 'material_type', 'num_unit',\n",
    "             'area_patio', 'area_shed', 'build_year',\n",
    "             'num_stories', 'flag_fireplace', 'tax_assessed_structure_value',\n",
    "             'tax_assessed_parcel_value', 'tax_assessment_year', 'tax_assessed_land_alue',\n",
    "             'tax_property', 'tax_delinquency_flag', 'tax_delinquency_year',\n",
    "             'census_tract_block']\n",
    "    properties_2016 = pd.read_csv(os.path.join(base_dir, 'properties_2016.csv'), names = names, header = 0)\n",
    "\n",
    "    # Training data\n",
    "    train_2016 = pd.read_csv(os.path.join(base_dir, 'train_2016_v2.csv'))\n",
    "    \n",
    "    # Sample data\n",
    "    sample = pd.read_csv('../submissions/sample_submission.csv')\n",
    "    \n",
    "    # Return data\n",
    "    return properties_2016, train_2016, sample\n",
    "\n",
    "properties_2016, train, sample = load_data()\n",
    "\n",
    "'''\n",
    "Data Pre-processing\n",
    "'''\n",
    "def data_preprocessing(properties_2016):\n",
    "    # Data Types \n",
    "    # float64 vals to float32\n",
    "    for c, dtype in zip(properties_2016.columns, properties_2016.dtypes):\n",
    "        if dtype == np.float64:\n",
    "            properties_2016[c] = properties_2016[c].astype(np.float32)\n",
    "            \n",
    "    # return\n",
    "    return properties_2016\n",
    "\n",
    "properties_2016 = data_preprocessing(properties_2016)"
   ]
  }
 ],
 "metadata": {
  "kernelspec": {
   "display_name": "Python 3",
   "language": "python",
   "name": "python3"
  },
  "language_info": {
   "codemirror_mode": {
    "name": "ipython",
    "version": 3
   },
   "file_extension": ".py",
   "mimetype": "text/x-python",
   "name": "python",
   "nbconvert_exporter": "python",
   "pygments_lexer": "ipython3",
   "version": "3.6.2"
  }
 },
 "nbformat": 4,
 "nbformat_minor": 2
}
