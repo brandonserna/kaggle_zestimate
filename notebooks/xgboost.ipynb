{
 "cells": [
  {
   "cell_type": "markdown",
   "metadata": {
    "collapsed": true
   },
   "source": [
    "# XGBoost"
   ]
  },
  {
   "cell_type": "code",
   "execution_count": 1,
   "metadata": {
    "collapsed": true,
    "scrolled": true
   },
   "outputs": [],
   "source": [
    "import pandas as pd\n",
    "import numpy as np\n",
    "import xgboost as xgb\n",
    "from sklearn.preprocessing import LabelEncoder\n",
    "from xgboost import plot_importance\n",
    "import matplotlib.pyplot as plt\n",
    "%matplotlib inline\n",
    "import gc"
   ]
  },
  {
   "cell_type": "code",
   "execution_count": 2,
   "metadata": {
    "scrolled": true
   },
   "outputs": [
    {
     "name": "stderr",
     "output_type": "stream",
     "text": [
      "/home/bss/opt/anaconda3/envs/zillow/lib/python3.6/site-packages/IPython/core/interactiveshell.py:2698: DtypeWarning: Columns (22,32,34,49,55) have mixed types. Specify dtype option on import or set low_memory=False.\n",
      "  interactivity=interactivity, compiler=compiler, result=result)\n"
     ]
    }
   ],
   "source": [
    "# data \n",
    "properties = pd.read_csv('../input/properties_2016.csv')\n",
    "prop = pd.read_csv('../input/properties_2016.csv')\n",
    "train = pd.read_csv(\"../input/train_2016_v2.csv\")\n",
    "\n",
    "\n",
    "# data pre-processing and train/test\n",
    "for column in properties.columns:\n",
    "    properties[column] = properties[column].fillna(-1)\n",
    "    if properties[column].dtype == 'object':\n",
    "        lbl = LabelEncoder()\n",
    "        lbl.fit(list(properties[column].values))\n",
    "        properties[column] = lbl.transform(list(properties[column].values))\n",
    "\n",
    "train_df = train.merge(properties, how='left', on='parcelid')\n",
    "x_train = train_df.drop(['parcelid', 'logerror', 'transactiondate'], axis=1)\n",
    "x_test = properties.drop(['parcelid','decktypeid', 'yardbuildingsqft26', 'basementsqft',\n",
    "                        'buildingclasstypeid'], axis=1)"
   ]
  },
  {
   "cell_type": "code",
   "execution_count": 3,
   "metadata": {
    "scrolled": true
   },
   "outputs": [
    {
     "data": {
      "text/plain": [
       "((90275, 53), (2985217, 53))"
      ]
     },
     "execution_count": 3,
     "metadata": {},
     "output_type": "execute_result"
    }
   ],
   "source": [
    "# outliers removal\n",
    "train_df = train_df[train_df.logerror > -0.4]\n",
    "train_df = train_df[train_df.logerror < 0.419]\n",
    "\n",
    "x_train = train_df.drop(['parcelid', 'logerror', 'transactiondate',\n",
    "                        'decktypeid', 'yardbuildingsqft26', 'basementsqft',\n",
    "                        'buildingclasstypeid'], axis=1)\n",
    "\n",
    "y_train = train_df['logerror'].values.astype(np.float32)\n",
    "y_mean = np.mean(y_train)\n",
    "\n",
    "x_train.shape, x_test.shape"
   ]
  },
  {
   "cell_type": "code",
   "execution_count": 4,
   "metadata": {
    "collapsed": true,
    "scrolled": true
   },
   "outputs": [],
   "source": [
    "# model\n",
    "xgb_params = {\n",
    "    'eta': 0.037,\n",
    "    'max_depth': int(5),\n",
    "    'subsample': 0.80,\n",
    "    'objective': 'reg:linear',\n",
    "    'eval_metric': 'mae',\n",
    "    'lambda': 0.8,   \n",
    "    'alpha': 0.4, \n",
    "    'base_score': y_mean,\n",
    "    'silent': 1\n",
    "}\n",
    "dtrain = xgb.DMatrix(x_train, y_train)\n",
    "dtest = xgb.DMatrix(x_test)\n",
    "\n",
    "num_boost_rounds = 250"
   ]
  },
  {
   "cell_type": "code",
   "execution_count": null,
   "metadata": {
    "collapsed": true,
    "scrolled": true
   },
   "outputs": [],
   "source": [
    "clf = xgb.XGBClassifier(xgb_params)"
   ]
  },
  {
   "cell_type": "code",
   "execution_count": null,
   "metadata": {
    "scrolled": true
   },
   "outputs": [],
   "source": [
    "# training\n",
    "model = xgb.train(dict(xgb_params, silent=1), dtrain, num_boost_round=num_boost_rounds)\n",
    "\n",
    "xgb_pred1 = model.predict(dtest)\n",
    "\n",
    "num_boost_rounds = 240\n",
    "\n",
    "model = xgb.train(dict(xgb_params, silent=1), dtrain, num_boost_round=num_boost_rounds)\n",
    "\n",
    "# second run\n",
    "xgb_pred2 = model.predict(dtest)\n",
    "\n",
    "xgb_pred = (xgb_pred1 + xgb_pred2) / 2\n",
    "\n",
    "print( pd.DataFrame(xgb_pred).head() )\n",
    "\n",
    "del train_df; gc.collect()\n",
    "del x_train; gc.collect()\n",
    "del x_test; gc.collect()\n",
    "del properties; gc.collect()\n",
    "del dtest; gc.collect()\n",
    "del dtrain; gc.collect()\n",
    "del xgb_pred1, xgb_pred2; gc.collect"
   ]
  },
  {
   "cell_type": "code",
   "execution_count": null,
   "metadata": {
    "scrolled": true
   },
   "outputs": [],
   "source": [
    "'''\n",
    "- decktypeid\n",
    "- yardbuildingsqft\n",
    "- basementsqft\n",
    "- buildingclasspeid\n",
    "- pooltypeid\n",
    "'''\n",
    "\n",
    "ax = xgb.plot_importance(model)\n",
    "fig = ax.figure\n",
    "fig.set_size_inches(20, 20)"
   ]
  },
  {
   "cell_type": "code",
   "execution_count": null,
   "metadata": {
    "collapsed": true,
    "scrolled": true
   },
   "outputs": [],
   "source": [
    "print(model)"
   ]
  },
  {
   "cell_type": "markdown",
   "metadata": {},
   "source": [
    "## Predictions"
   ]
  },
  {
   "cell_type": "code",
   "execution_count": null,
   "metadata": {
    "scrolled": true
   },
   "outputs": [],
   "source": [
    "test_dates = ['2016-10-01','2016-11-01','2016-12-01','2017-10-01','2017-11-01','2017-12-01']\n",
    "test_columns = ['201610','201611','201612','201710','201711','201712']\n",
    "\n",
    "sub = pd.read_csv('../submissions/sample_submission.csv')\n",
    "for c in sub.columns[sub.columns != 'ParcelId']:\n",
    "    sub[c] = xgb_pred\n",
    "\n",
    "print('Writing csv ...')\n",
    "sub.to_csv('xgb_rm5features.csv', index=False, float_format='%.4f')"
   ]
  },
  {
   "cell_type": "markdown",
   "metadata": {
    "collapsed": true
   },
   "source": [
    "# Cross Validation"
   ]
  },
  {
   "cell_type": "code",
   "execution_count": 5,
   "metadata": {
    "scrolled": true
   },
   "outputs": [
    {
     "name": "stderr",
     "output_type": "stream",
     "text": [
      "/home/bss/opt/anaconda3/envs/zillow/lib/python3.6/site-packages/sklearn/model_selection/_split.py:581: Warning: The least populated class in y has only 1 members, which is too few. The minimum number of groups for any class cannot be less than n_splits=10.\n",
      "  % (min_groups, self.n_splits)), Warning)\n"
     ]
    },
    {
     "data": {
      "text/html": [
       "<div>\n",
       "<style>\n",
       "    .dataframe thead tr:only-child th {\n",
       "        text-align: right;\n",
       "    }\n",
       "\n",
       "    .dataframe thead th {\n",
       "        text-align: left;\n",
       "    }\n",
       "\n",
       "    .dataframe tbody tr th {\n",
       "        vertical-align: top;\n",
       "    }\n",
       "</style>\n",
       "<table border=\"1\" class=\"dataframe\">\n",
       "  <thead>\n",
       "    <tr style=\"text-align: right;\">\n",
       "      <th></th>\n",
       "      <th>test-mae-mean</th>\n",
       "      <th>test-mae-std</th>\n",
       "      <th>train-mae-mean</th>\n",
       "      <th>train-mae-std</th>\n",
       "    </tr>\n",
       "  </thead>\n",
       "  <tbody>\n",
       "    <tr>\n",
       "      <th>27</th>\n",
       "      <td>0.068023</td>\n",
       "      <td>0.001607</td>\n",
       "      <td>0.067748</td>\n",
       "      <td>0.000190</td>\n",
       "    </tr>\n",
       "    <tr>\n",
       "      <th>28</th>\n",
       "      <td>0.068023</td>\n",
       "      <td>0.001613</td>\n",
       "      <td>0.067736</td>\n",
       "      <td>0.000188</td>\n",
       "    </tr>\n",
       "    <tr>\n",
       "      <th>29</th>\n",
       "      <td>0.068023</td>\n",
       "      <td>0.001612</td>\n",
       "      <td>0.067726</td>\n",
       "      <td>0.000189</td>\n",
       "    </tr>\n",
       "    <tr>\n",
       "      <th>30</th>\n",
       "      <td>0.068022</td>\n",
       "      <td>0.001612</td>\n",
       "      <td>0.067715</td>\n",
       "      <td>0.000190</td>\n",
       "    </tr>\n",
       "    <tr>\n",
       "      <th>31</th>\n",
       "      <td>0.068019</td>\n",
       "      <td>0.001614</td>\n",
       "      <td>0.067705</td>\n",
       "      <td>0.000189</td>\n",
       "    </tr>\n",
       "  </tbody>\n",
       "</table>\n",
       "</div>"
      ],
      "text/plain": [
       "    test-mae-mean  test-mae-std  train-mae-mean  train-mae-std\n",
       "27       0.068023      0.001607        0.067748       0.000190\n",
       "28       0.068023      0.001613        0.067736       0.000188\n",
       "29       0.068023      0.001612        0.067726       0.000189\n",
       "30       0.068022      0.001612        0.067715       0.000190\n",
       "31       0.068019      0.001614        0.067705       0.000189"
      ]
     },
     "execution_count": 5,
     "metadata": {},
     "output_type": "execute_result"
    }
   ],
   "source": [
    "# cross validation\n",
    "# at 289 iterations we have a MAE 5.26%\n",
    "cv_results = xgb.cv(xgb_params, dtrain, num_boost_round=5000, nfold=10, metrics=['mae'],\n",
    "                   early_stopping_rounds=100, stratified=True)\n",
    "cv_results.tail(5)"
   ]
  },
  {
   "cell_type": "code",
   "execution_count": 6,
   "metadata": {},
   "outputs": [
    {
     "name": "stdout",
     "output_type": "stream",
     "text": [
      "Best number of trees = 32\n"
     ]
    }
   ],
   "source": [
    "# metrics\n",
    "print('Best number of trees = {}'.format(cv_results.shape[0]))"
   ]
  },
  {
   "cell_type": "code",
   "execution_count": 7,
   "metadata": {
    "collapsed": true
   },
   "outputs": [],
   "source": [
    "final_gb = xgb.train(xgb_params, dtrain, num_boost_round=31)"
   ]
  },
  {
   "cell_type": "code",
   "execution_count": 8,
   "metadata": {
    "scrolled": true
   },
   "outputs": [
    {
     "data": {
      "text/plain": [
       "[('fips', 1),\n",
       " ('fireplacecnt', 1),\n",
       " ('garagetotalsqft', 2),\n",
       " ('unitcnt', 2),\n",
       " ('finishedfloor1squarefeet', 2),\n",
       " ('propertylandusetypeid', 3),\n",
       " ('taxdelinquencyflag', 5),\n",
       " ('regionidneighborhood', 5),\n",
       " ('finishedsquarefeet15', 5),\n",
       " ('taxdelinquencyyear', 6),\n",
       " ('airconditioningtypeid', 7),\n",
       " ('regionidcity', 7),\n",
       " ('censustractandblock', 8),\n",
       " ('bedroomcnt', 11),\n",
       " ('poolcnt', 11),\n",
       " ('buildingqualitytypeid', 11),\n",
       " ('heatingorsystemtypeid', 13),\n",
       " ('bathroomcnt', 15),\n",
       " ('propertycountylandusecode', 15),\n",
       " ('landtaxvaluedollarcnt', 19),\n",
       " ('propertyzoningdesc', 28),\n",
       " ('rawcensustractandblock', 28),\n",
       " ('regionidzip', 38),\n",
       " ('longitude', 39),\n",
       " ('finishedsquarefeet12', 40),\n",
       " ('yearbuilt', 46),\n",
       " ('latitude', 58),\n",
       " ('taxvaluedollarcnt', 61),\n",
       " ('lotsizesquarefeet', 68),\n",
       " ('structuretaxvaluedollarcnt', 70),\n",
       " ('taxamount', 77),\n",
       " ('calculatedfinishedsquarefeet', 81)]"
      ]
     },
     "execution_count": 8,
     "metadata": {},
     "output_type": "execute_result"
    }
   ],
   "source": [
    "f = final_gb.get_fscore()\n",
    "sorted(f.items(), key=lambda x:x[1])"
   ]
  },
  {
   "cell_type": "code",
   "execution_count": 9,
   "metadata": {
    "collapsed": true
   },
   "outputs": [],
   "source": [
    "y_pred = final_gb.predict(dtest)"
   ]
  },
  {
   "cell_type": "code",
   "execution_count": 10,
   "metadata": {},
   "outputs": [
    {
     "data": {
      "text/plain": [
       "test-mae-mean     0.068113\n",
       "test-mae-std      0.001612\n",
       "train-mae-mean    0.067954\n",
       "train-mae-std     0.000188\n",
       "dtype: float64"
      ]
     },
     "execution_count": 10,
     "metadata": {},
     "output_type": "execute_result"
    }
   ],
   "source": [
    "cv_results.mean()"
   ]
  },
  {
   "cell_type": "code",
   "execution_count": 11,
   "metadata": {},
   "outputs": [
    {
     "name": "stdout",
     "output_type": "stream",
     "text": [
      "0.0709602062275\n"
     ]
    }
   ],
   "source": [
    "def MAE(y, y_pred):\n",
    "    return np.sum([abs(y[i] - y_pred[i]) for i in range(len(y))]) / len(y)\n",
    "# x_train, y_train\n",
    "print(MAE(y_train, y_pred))"
   ]
  },
  {
   "cell_type": "code",
   "execution_count": 12,
   "metadata": {},
   "outputs": [
    {
     "name": "stdout",
     "output_type": "stream",
     "text": [
      "Writing csv ...\n"
     ]
    }
   ],
   "source": [
    "test_dates = ['2016-10-01','2016-11-01','2016-12-01','2017-10-01','2017-11-01','2017-12-01']\n",
    "test_columns = ['201610','201611','201612','201710','201711','201712']\n",
    "\n",
    "sub = pd.read_csv('../submissions/sample_submission.csv')\n",
    "for c in sub.columns[sub.columns != 'ParcelId']:\n",
    "    sub[c] = y_pred\n",
    "\n",
    "print('Writing csv ...')\n",
    "sub.to_csv('xgb_cv_v2.csv', index=False, float_format='%.4f')"
   ]
  },
  {
   "cell_type": "code",
   "execution_count": null,
   "metadata": {
    "collapsed": true
   },
   "outputs": [],
   "source": []
  },
  {
   "cell_type": "code",
   "execution_count": null,
   "metadata": {
    "collapsed": true
   },
   "outputs": [],
   "source": [
    "\n",
    "#xgb_params['n_estimators'] = cv_results.shape[0]\n",
    "# fit on training\n",
    "clf.set_params(n_estimators=cv_results.shape[0])\n",
    "clf.set_params(max_depth=int(5))\n",
    "print(clf.get_params())\n",
    "clf\n",
    "clf.fit(x_train, y_train, eval_metric='mae')"
   ]
  }
 ],
 "metadata": {
  "kernelspec": {
   "display_name": "Python 3",
   "language": "python",
   "name": "python3"
  },
  "language_info": {
   "codemirror_mode": {
    "name": "ipython",
    "version": 3
   },
   "file_extension": ".py",
   "mimetype": "text/x-python",
   "name": "python",
   "nbconvert_exporter": "python",
   "pygments_lexer": "ipython3",
   "version": "3.6.2"
  }
 },
 "nbformat": 4,
 "nbformat_minor": 2
}
