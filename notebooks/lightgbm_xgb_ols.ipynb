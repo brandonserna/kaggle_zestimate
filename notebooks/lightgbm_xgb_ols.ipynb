{
 "cells": [
  {
   "cell_type": "markdown",
   "metadata": {},
   "source": [
    "# LightGBM + XGBoost + OLS"
   ]
  },
  {
   "cell_type": "code",
   "execution_count": null,
   "metadata": {
    "collapsed": true
   },
   "outputs": [],
   "source": [
    "import random\n",
    "import gc \n",
    "import datetime as dt\n",
    "import numpy as np \n",
    "import pandas as pd\n",
    "import xgboost as xgb\n",
    "import lightgbm as lgb\n",
    "from sklearn.preprocessing import LabelEncoder\n",
    "from sklearn.linear_model import LinearRegression\n",
    "\n",
    "%matplotlib inline"
   ]
  },
  {
   "cell_type": "code",
   "execution_count": null,
   "metadata": {
    "collapsed": true
   },
   "outputs": [],
   "source": [
    "# Weight parameters\n",
    "XGB_WEIGHT = 0.6840\n",
    "BASELINE_WEIGHT = 0.0056\n",
    "OLS_WEIGHT = 0.0550\n",
    "\n",
    "XGB1_WEIGHT = 0.8083\n",
    "\n",
    "BASELINE_PRED = 0.0115  # mean of training data"
   ]
  },
  {
   "cell_type": "markdown",
   "metadata": {},
   "source": [
    "## Data"
   ]
  },
  {
   "cell_type": "code",
   "execution_count": null,
   "metadata": {},
   "outputs": [],
   "source": [
    "prop = pd.read_csv('../input/properties_2016.csv')\n",
    "train = pd.read_csv('../input/train_2016_v2.csv')"
   ]
  },
  {
   "cell_type": "markdown",
   "metadata": {},
   "source": [
    "# LightGBM\n",
    "* https://www.kaggle.com/sidharthkumar/trying-lightgbm\n",
    "\n",
    "* https://www.kaggle.com/yuqingxue/lightgbm-85-97\n",
    "\n",
    "* https://www.kaggle.com/aharless/lightgbm-with-outliers-remaining"
   ]
  },
  {
   "cell_type": "code",
   "execution_count": null,
   "metadata": {},
   "outputs": [],
   "source": [
    "'''\n",
    "data preprocessing for lightgbm\n",
    "* float64 >> float32\n",
    "* merge properties with training \n",
    "* fill missing with median values \n",
    "* drop columns\n",
    "* objects == True\n",
    "* cast as float32\n",
    "\n",
    "Feature engineering (https://www.kaggle.com/nikunjm88/creating-additional-features/)\n",
    "'''\n",
    "# feature engineering\n",
    "prop['prop_age'] = 2018 - prop['yearbuilt']  # property age\n",
    "\n",
    "prop['total_rm_ct'] = prop['bathroomcnt'] + prop['bedroomcnt']  # total bed rm+ bathrm\n",
    "prop['room_size_avg'] = prop['calculatedfinishedsquarefeet'] / prop['roomcnt']\n",
    "prop['tax_structure_land'] = prop['structuretaxvaluedollarcnt'] - prop['landtaxvaluedollarcnt']\n",
    "prop['living_area_proportion'] = prop['calculatedfinishedsquarefeet'] / prop['lotsizesquarefeet']\n",
    "prop['living_area_proportion_2'] = prop['finishedsquarefeet12'] / prop['finishedsquarefeet15']\n",
    "\n",
    "prop[\"location\"] = prop[\"latitude\"] + prop[\"longitude\"]  # location total\n",
    "# properties within the zip code\n",
    "prop['homes_wi_zip'] = prop['regionidzip'].map(prop['regionidzip'].value_counts().to_dict())\n",
    "\n",
    "for c, dtype in zip(prop.columns, prop.dtypes):\n",
    "    if dtype == np.float64:\n",
    "        prop[c] = prop[c].astype(np.float32)\n",
    "\n",
    "df_train = train.merge(prop, how='left', on='parcelid')\n",
    "\n",
    "df_train.fillna(df_train.median(), inplace=True)  # fill w/ median val\n",
    "\n",
    "x_train = df_train.drop(['parcelid', 'logerror', 'transactiondate', 'propertyzoningdesc',\n",
    "                        'propertycountylandusecode', 'fireplacecnt', 'fireplaceflag'], axis=1)\n",
    "\n",
    "y_train = df_train['logerror'].values  # labels\n",
    "print('x_train: ' + str(x_train.shape) + '\\ny_train: ' + str(y_train.shape))\n",
    "\n",
    "train_columns = x_train.columns \n",
    "\n",
    "for c in x_train.dtypes[x_train.dtypes == object].index.values:\n",
    "    x_train[c] = (x_train[c] == True)\n",
    "    \n",
    "del df_train  # memory\n",
    "gc.collect()\n",
    "print('\\n \\nx_train shape: ', x_train.shape)\n",
    "\n",
    "x_train = x_train.values.astype(np.float32, copy=False)  # np array\n",
    "d_train = lgb.Dataset(x_train, label=y_train)  # lightgbm data model"
   ]
  },
  {
   "cell_type": "code",
   "execution_count": null,
   "metadata": {
    "scrolled": true
   },
   "outputs": [],
   "source": [
    "# running lightgbm\n",
    "params = {}\n",
    "params['max_bin'] = 10\n",
    "params['learning_rate'] = 0.0021  # shrinkage_rate\n",
    "params['boosting_type'] = 'gbdt'\n",
    "params['objective'] = 'regression'\n",
    "params['metric'] = 'mae'  # l1\n",
    "params['sub_feature'] = 0.5  # feature_fraction\n",
    "params['bagging_fraction'] = 0.85  # sub_row\n",
    "params['num_leaves'] = 512  # num_leaf\n",
    "params['min_data'] = 500  # min_data_in_leaf\n",
    "params['min_hessian'] = 0.05  # min_sum_hessian_in_leaf\n",
    "params['verbose'] = 0\n",
    "params['feature_fraction_seed'] = 2\n",
    "params['bagging_seed'] = 3\n",
    "\n",
    "np.random.seed(0)\n",
    "random.seed(0)\n",
    "\n",
    "clf = lgb.train(params, d_train, 430)\n",
    "\n",
    "del d_train; gc.collect()\n",
    "del x_train; gc.collect()\n",
    "\n",
    "sample = pd.read_csv('../submissions/sample_submission.csv')  # sample data sub file\n",
    "sample['parcelid'] = sample['ParcelId']  # merge w prop data\n",
    "df_test = sample.merge(prop, on='parcelid', how='left')\n",
    "\n",
    "del sample, prop; gc.collect()\n",
    "\n",
    "x_test = df_test[train_columns]\n",
    "\n",
    "del df_test; gc.collect()\n",
    "\n",
    "for c in x_test.dtypes[x_test.dtypes == object].index.values:\n",
    "    x_test[c] = (x_test[c] == True)\n",
    "    \n",
    "x_test = x_test.values.astype(np.float32, copy=False)\n",
    "\n",
    "p_test = clf.predict(x_test)\n",
    "\n",
    "del x_test; gc.collect()\n",
    "print(\"\\nUnadjusted LightGBM predictions:\")\n",
    "print(pd.DataFrame(p_test).head())"
   ]
  },
  {
   "cell_type": "code",
   "execution_count": null,
   "metadata": {
    "collapsed": true
   },
   "outputs": [],
   "source": [
    "train_columns[56]"
   ]
  },
  {
   "cell_type": "code",
   "execution_count": null,
   "metadata": {
    "collapsed": true
   },
   "outputs": [],
   "source": [
    "# regionidzip (35), lotsizesquarefeet, structuretaxvaluedollarcnt(45), yearbuilt(43), \n",
    "# latitude(22), calculatedfinishedsquarefeet, taxamout(49)\n",
    "lgb.plot_importance(clf, figsize=(20,20))"
   ]
  },
  {
   "cell_type": "markdown",
   "metadata": {},
   "source": [
    "# XGBoost"
   ]
  },
  {
   "cell_type": "code",
   "execution_count": null,
   "metadata": {
    "collapsed": true
   },
   "outputs": [],
   "source": [
    "# data\n",
    "prop = pd.read_csv('../input/properties_2016.csv')\n",
    "\n",
    "# feature engineering\n",
    "prop['prop_age'] = 2018 - prop['yearbuilt']  # property age\n",
    "\n",
    "prop['total_rm_ct'] = prop['bathroomcnt'] + prop['bedroomcnt']  # total bed rm+ bathrm\n",
    "prop['room_size_avg'] = prop['calculatedfinishedsquarefeet'] / prop['roomcnt']\n",
    "prop['tax_structure_land'] = prop['structuretaxvaluedollarcnt'] - prop['landtaxvaluedollarcnt']\n",
    "prop['living_area_proportion'] = prop['calculatedfinishedsquarefeet'] / prop['lotsizesquarefeet']\n",
    "prop['living_area_proportion_2'] = prop['finishedsquarefeet12'] / prop['finishedsquarefeet15']\n",
    "\n",
    "prop[\"location\"] = prop[\"latitude\"] + prop[\"longitude\"]  # location total\n",
    "# properties within the zip code\n",
    "prop['homes_wi_zip'] = prop['regionidzip'].map(prop['regionidzip'].value_counts().to_dict())\n",
    "\n",
    "# pre-process\n",
    "for c in prop.columns:\n",
    "    prop[c] = prop[c].fillna(-1)\n",
    "    if prop[c].dtype == 'object':\n",
    "        lbl = LabelEncoder()\n",
    "        lbl.fit(list(prop[c].values))\n",
    "        prop[c] = lbl.transform(list(prop[c].values))\n",
    "\n",
    "train_df = train.merge(prop, how='left', on='parcelid')\n",
    "x_train = train_df.drop(['parcelid', 'logerror', 'transactiondate'], axis=1)\n",
    "x_test = prop.drop(['parcelid'], axis=1)\n",
    "print('Shape train: {}\\nShape test: {}'.format(x_train.shape, x_test.shape))\n",
    "\n",
    "# drop outliers --important--\n",
    "train_df = train_df[train_df.logerror > -0.4]\n",
    "train_df = train_df[train_df.logerror < 0.419]\n",
    "x_train = train_df.drop(['parcelid', 'logerror', 'transactiondate'], axis=1)\n",
    "y_train = train_df['logerror'].values.astype(np.float32)\n",
    "y_mean = np.mean(y_train)\n",
    "print('(w/o outliers) \\nShape train: {}\\nShape test: {}'.format(x_train.shape, x_test.shape))"
   ]
  },
  {
   "cell_type": "code",
   "execution_count": null,
   "metadata": {
    "collapsed": true
   },
   "outputs": [],
   "source": [
    "# run model\n",
    "xgb_params = {\n",
    "    'eta' : 0.037,\n",
    "    'max_depth' : 5,\n",
    "    'subsample' : 0.80,\n",
    "    'objective' : 'reg:linear',\n",
    "    'eval_metric' : 'mae',\n",
    "    'lambda' : 0.8,\n",
    "    'alpha' : 0.4,\n",
    "    'base_score' : y_mean,\n",
    "    'silent' : 1\n",
    "}\n",
    "\n",
    "dtrain = xgb.DMatrix(x_train, y_train)\n",
    "dtest = xgb.DMatrix(x_test)\n",
    "\n",
    "num_boost_rounds = 250 \n",
    "\n",
    "# training\n",
    "model = xgb.train(dict(xgb_params, silent=1), dtrain, num_boost_round=num_boost_rounds)\n",
    "\n",
    "# predict\n",
    "xgb_pred1 = model.predict(dtest)\n",
    "print('XGBoost model #1...')\n",
    "print(pd.DataFrame(xgb_pred1).head())\n",
    "\n",
    "# second xgboost run\n",
    "xgb_params = {\n",
    "    'eta' : 0.033,\n",
    "    'max_depth' : 6,\n",
    "    'subsample' : 0.80,\n",
    "    'objective' : 'reg:linear',\n",
    "    'eval_metric' : 'mae',\n",
    "    'base_score' : y_mean,\n",
    "    'silent' : 1\n",
    "}\n",
    "num_boost_rounds = 150\n",
    "\n",
    "# training\n",
    "model = xgb.train(dict(xgb_params, silent=1), dtrain, num_boost_round=num_boost_rounds)\n",
    "\n",
    "# predict\n",
    "xgb_pred2 = model.predict(dtest)\n",
    "print('XGBoost model #2...')\n",
    "print(pd.DataFrame(xgb_pred2).head())\n",
    "\n",
    "\n",
    "# Combining xgboost results\n",
    "xgb_pred = XGB1_WEIGHT*xgb_pred1 + (1-XGB1_WEIGHT)*xgb_pred2\n",
    "print(pd.DataFrame(xgb_pred).head())\n",
    "\n",
    "del train_df\n",
    "del x_train\n",
    "del x_test\n",
    "del prop\n",
    "del dtest\n",
    "del dtrain\n",
    "del xgb_pred1\n",
    "del xgb_pred2\n",
    "gc.collect()"
   ]
  },
  {
   "cell_type": "code",
   "execution_count": null,
   "metadata": {
    "collapsed": true
   },
   "outputs": [],
   "source": [
    "ax = xgb.plot_importance(model)\n",
    "fig = ax.figure\n",
    "fig.set_size_inches(20, 20)"
   ]
  },
  {
   "cell_type": "markdown",
   "metadata": {},
   "source": [
    "## OLS"
   ]
  },
  {
   "cell_type": "code",
   "execution_count": null,
   "metadata": {},
   "outputs": [],
   "source": [
    "np.random.seed(17)\n",
    "random.seed(17)\n",
    "\n",
    "train = pd.read_csv(\"../input/train_2016_v2.csv\", parse_dates=[\"transactiondate\"])\n",
    "prop = pd.read_csv(\"../input/properties_2016.csv\")\n",
    "submission = pd.read_csv(\"../submissions/sample_submission.csv\")\n",
    "print(len(train),len(prop),len(submission))\n",
    "\n",
    "# feature engineering\n",
    "prop['prop_age'] = 2018 - prop['yearbuilt']  # property age\n",
    "prop['total_rm_ct'] = prop['bathroomcnt'] + prop['bedroomcnt']  # total bed rm+ bathrm\n",
    "prop[\"location\"] = prop[\"latitude\"] + prop[\"longitude\"]  # location total\n",
    "\n",
    "def get_features(df):\n",
    "    df[\"transactiondate\"] = pd.to_datetime(df[\"transactiondate\"])\n",
    "    df[\"transactiondate_year\"] = df[\"transactiondate\"].dt.year\n",
    "    df[\"transactiondate_month\"] = df[\"transactiondate\"].dt.month\n",
    "    df['transactiondate'] = df['transactiondate'].dt.quarter\n",
    "    df = df.fillna(-1.0)\n",
    "    return df\n",
    "\n",
    "def MAE(y, ypred):\n",
    "    #logerror=log(Zestimate)−log(SalePrice)\n",
    "    return np.sum([abs(y[i]-ypred[i]) for i in range(len(y))]) / len(y)\n",
    "\n",
    "train = pd.merge(train, prop, how='left', on='parcelid')\n",
    "y = train['logerror'].values\n",
    "test = pd.merge(submission, prop, how='left', left_on='ParcelId', right_on='parcelid')\n",
    "properties = [] #memory\n",
    "\n",
    "exc = [train.columns[c] for c in range(len(train.columns)) if train.dtypes[c] == 'O'] + ['logerror','parcelid']\n",
    "col = [c for c in train.columns if c not in exc]\n",
    "\n",
    "train = get_features(train[col])\n",
    "test['transactiondate'] = '2016-01-01' #should use the most common training date\n",
    "test = get_features(test[col])\n",
    "\n",
    "reg = LinearRegression(n_jobs=-1)\n",
    "reg.fit(train, y); print('Fitting on ', len(train), ' and ', len(y), ' labels')\n",
    "print('Predicting on ', len(train))\n",
    "print(MAE(y, reg.predict(train)))\n",
    "train = [];  y = [] #memory\n",
    "\n",
    "test_dates = ['2016-10-01','2016-11-01','2016-12-01','2017-10-01','2017-11-01','2017-12-01']\n",
    "test_columns = ['201610','201611','201612','201710','201711','201712']"
   ]
  },
  {
   "cell_type": "markdown",
   "metadata": {},
   "source": [
    "## Combine Predictions"
   ]
  },
  {
   "cell_type": "code",
   "execution_count": null,
   "metadata": {
    "collapsed": true
   },
   "outputs": [],
   "source": [
    "lgb_weight = (1 - XGB_WEIGHT - BASELINE_WEIGHT) / (1 - OLS_WEIGHT)\n",
    "xgb_weight0 = XGB_WEIGHT / (1-OLS_WEIGHT)\n",
    "baseline_weight0 = BASELINE_WEIGHT / (1-OLS_WEIGHT)\n",
    "pred0 =  xgb_weight0 * xgb_pred +baseline_weight0*BASELINE_PRED + lgb_weight*p_test\n",
    "\n",
    "print(\"Combined XGB+LGB+baseline predictions:\")\n",
    "print(pd.DataFrame(pred0).head())\n",
    "\n",
    "# predicting w/ OLS and combining xgb lgb baseline predictions\n",
    "for i in range(len(test_dates)):\n",
    "    test['transactiondate'] = test_dates[i]\n",
    "    pred = OLS_WEIGHT * reg.predict(get_features(test)) + (1 - OLS_WEIGHT) * pred0\n",
    "    submission[test_columns[i]] = [float(format(x, '.4f')) for x in pred]\n",
    "    print('Predict...', i)\n",
    "\n",
    "print(\"\\nCombined XGB/LGB/baseline/OLS predictions:\")\n",
    "print(submission.head())"
   ]
  },
  {
   "cell_type": "markdown",
   "metadata": {},
   "source": [
    "## Submission File"
   ]
  },
  {
   "cell_type": "code",
   "execution_count": null,
   "metadata": {
    "collapsed": true
   },
   "outputs": [],
   "source": [
    "submission.to_csv('../submissions/submission_addFeatures_v2.csv', index=False)"
   ]
  },
  {
   "cell_type": "code",
   "execution_count": null,
   "metadata": {
    "collapsed": true
   },
   "outputs": [],
   "source": []
  }
 ],
 "metadata": {
  "kernelspec": {
   "display_name": "Python 3",
   "language": "python",
   "name": "python3"
  },
  "language_info": {
   "codemirror_mode": {
    "name": "ipython",
    "version": 3
   },
   "file_extension": ".py",
   "mimetype": "text/x-python",
   "name": "python",
   "nbconvert_exporter": "python",
   "pygments_lexer": "ipython3",
   "version": "3.6.1"
  }
 },
 "nbformat": 4,
 "nbformat_minor": 2
}
